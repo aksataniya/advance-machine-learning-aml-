{
  "cells": [
    {
      "cell_type": "markdown",
      "metadata": {
        "id": "W6LBlBctzGmd"
      },
      "source": [
        "This is a companion notebook for the book [Deep Learning with Python, Second Edition](https://www.manning.com/books/deep-learning-with-python-second-edition?a_aid=keras&a_bid=76564dff). For readability, it only contains runnable code blocks and section titles, and omits everything else in the book: text paragraphs, figures, and pseudocode.\n",
        "\n",
        "**If you want to be able to follow what's going on, I recommend reading the notebook side by side with your copy of the book.**\n",
        "\n",
        "This notebook was generated for TensorFlow 2.6."
      ]
    },
    {
      "cell_type": "markdown",
      "metadata": {
        "id": "54WiKpXbzGmf"
      },
      "source": [
        "### Processing words as a sequence: The sequence model approach"
      ]
    },
    {
      "cell_type": "markdown",
      "metadata": {
        "id": "0Traj_ewzGmg"
      },
      "source": [
        "#### A first practical example"
      ]
    },
    {
      "cell_type": "markdown",
      "metadata": {
        "id": "rmpIJo6SzGmg"
      },
      "source": [
        "**Downloading the data**"
      ]
    },
    {
      "cell_type": "code",
      "execution_count": 63,
      "metadata": {
        "colab": {
          "base_uri": "https://localhost:8080/"
        },
        "id": "aFVsVWKYzGmg",
        "outputId": "652a3a9b-3a6c-41f2-cf42-b39cace86c91"
      },
      "outputs": [
        {
          "output_type": "stream",
          "name": "stdout",
          "text": [
            "  % Total    % Received % Xferd  Average Speed   Time    Time     Time  Current\n",
            "                                 Dload  Upload   Total   Spent    Left  Speed\n",
            "100 80.2M  100 80.2M    0     0  8839k      0  0:00:09  0:00:09 --:--:-- 16.1M\n"
          ]
        }
      ],
      "source": [
        "!curl -O https://ai.stanford.edu/~amaas/data/sentiment/aclImdb_v1.tar.gz\n",
        "!tar -xf aclImdb_v1.tar.gz\n",
        "!rm -r aclImdb/train/unsup"
      ]
    },
    {
      "cell_type": "markdown",
      "metadata": {
        "id": "GUIVQxlwzGmh"
      },
      "source": [
        "**Preparing the data**\n",
        "\n",
        "\n",
        "\n",
        "\n",
        "\n",
        "\n",
        "\n",
        "\n",
        "\n",
        "\n",
        "\n",
        "\n",
        "\n",
        "\n",
        "\n",
        "\n",
        "\n",
        "\n",
        "\n",
        "\n",
        "\n",
        "\n",
        "\n",
        "\n",
        "\n",
        "\n",
        "\n",
        "\n"
      ]
    },
    {
      "cell_type": "code",
      "execution_count": 64,
      "metadata": {
        "id": "ffrBYuBgzGmh"
      },
      "outputs": [],
      "source": [
        "# import os, pathlib, shutil, random\n",
        "# from tensorflow import keras\n",
        "# batch_size = 32\n",
        "# base_dir = pathlib.Path(\"aclImdb\")\n",
        "# val_dir = base_dir / \"val\"\n",
        "# train_dir = base_dir / \"train\"\n",
        "# for category in (\"neg\", \"pos\"):\n",
        "#     os.makedirs(val_dir / category)\n",
        "#     files = os.listdir(train_dir / category)\n",
        "#     random.Random(1337).shuffle(files)\n",
        "#     num_val_samples = int(0.2 * len(files))\n",
        "#     val_files = files[-num_val_samples:]\n",
        "#     for fname in val_files:\n",
        "#         shutil.move(train_dir / category / fname,\n",
        "#                     val_dir / category / fname)"
      ]
    },
    {
      "cell_type": "markdown",
      "metadata": {
        "id": "ZeGtpjsSzGmi"
      },
      "source": [
        "**Preparing integer sequence datasets**"
      ]
    },
    {
      "cell_type": "code",
      "execution_count": 65,
      "metadata": {
        "colab": {
          "base_uri": "https://localhost:8080/"
        },
        "id": "C0gv2-hXzGmi",
        "outputId": "02f0055c-570c-45a0-c73f-dc3532cb1778"
      },
      "outputs": [
        {
          "output_type": "stream",
          "name": "stdout",
          "text": [
            "Found 25000 files belonging to 2 classes.\n",
            "Found 5000 files belonging to 2 classes.\n",
            "Found 25000 files belonging to 2 classes.\n"
          ]
        }
      ],
      "source": [
        "train_ds = keras.utils.text_dataset_from_directory(\n",
        "    \"aclImdb/train\", batch_size=batch_size\n",
        ")\n",
        "\n",
        "val_ds = keras.utils.text_dataset_from_directory(\n",
        "    \"aclImdb/val\", batch_size=batch_size\n",
        ")\n",
        "\n",
        "test_ds = keras.utils.text_dataset_from_directory(\n",
        "    \"aclImdb/test\", batch_size=batch_size\n",
        ")\n",
        "text_only_train_ds = train_ds.map(lambda x, y: x)\n",
        "from tensorflow.keras import layers\n",
        "\n",
        "max_length = 150 \n",
        "max_tokens = 10000\n",
        "text_vectorization = layers.TextVectorization(\n",
        "    max_tokens=max_tokens,\n",
        "    output_mode=\"int\",\n",
        "    output_sequence_length=max_length,\n",
        ")\n",
        "text_vectorization.adapt(text_only_train_ds)\n",
        "\n",
        "train_ds = train_ds.take(1500)\n",
        "int_train_ds = train_ds.map(\n",
        "    lambda x, y: (text_vectorization(x), y),\n",
        "    num_parallel_calls=4)\n",
        "val_ds = val_ds.take(10000)\n",
        "int_val_ds = val_ds.map(\n",
        "    lambda x, y: (text_vectorization(x), y),\n",
        "    num_parallel_calls=4)\n",
        "int_test_ds = test_ds.map(\n",
        "    lambda x, y: (text_vectorization(x), y),\n",
        "    num_parallel_calls=4)"
      ]
    },
    {
      "cell_type": "markdown",
      "metadata": {
        "id": "NW0_KDINzGmi"
      },
      "source": [
        "**A sequence model built on one-hot encoded vector sequences**"
      ]
    },
    {
      "cell_type": "code",
      "execution_count": 66,
      "metadata": {
        "colab": {
          "base_uri": "https://localhost:8080/"
        },
        "id": "f-iSMHSpzGmi",
        "outputId": "df782c4a-3aee-4e0f-bb5b-1ba9f299216c"
      },
      "outputs": [
        {
          "output_type": "stream",
          "name": "stdout",
          "text": [
            "Model: \"model_17\"\n",
            "_________________________________________________________________\n",
            " Layer (type)                Output Shape              Param #   \n",
            "=================================================================\n",
            " input_18 (InputLayer)       [(None, None)]            0         \n",
            "                                                                 \n",
            " tf.one_hot_5 (TFOpLambda)   (None, None, 10000)       0         \n",
            "                                                                 \n",
            " bidirectional_17 (Bidirecti  (None, 64)               2568448   \n",
            " onal)                                                           \n",
            "                                                                 \n",
            " dropout_17 (Dropout)        (None, 64)                0         \n",
            "                                                                 \n",
            " dense_17 (Dense)            (None, 1)                 65        \n",
            "                                                                 \n",
            "=================================================================\n",
            "Total params: 2,568,513\n",
            "Trainable params: 2,568,513\n",
            "Non-trainable params: 0\n",
            "_________________________________________________________________\n"
          ]
        }
      ],
      "source": [
        "import tensorflow as tf\n",
        "inputs = keras.Input(shape=(None,), dtype=\"int64\")\n",
        "embedded = tf.one_hot(inputs, depth=max_tokens)\n",
        "x = layers.Bidirectional(layers.LSTM(32))(embedded)\n",
        "x = layers.Dropout(0.5)(x)\n",
        "outputs = layers.Dense(1, activation=\"sigmoid\")(x)\n",
        "model = keras.Model(inputs, outputs)\n",
        "model.compile(optimizer=\"rmsprop\",\n",
        "              loss=\"binary_crossentropy\",\n",
        "              metrics=[\"accuracy\"])\n",
        "model.summary()"
      ]
    },
    {
      "cell_type": "markdown",
      "metadata": {
        "id": "Qxx38lKpzGmj"
      },
      "source": [
        "**Training a first basic sequence model**"
      ]
    },
    {
      "cell_type": "code",
      "execution_count": 67,
      "metadata": {
        "colab": {
          "base_uri": "https://localhost:8080/"
        },
        "id": "7OIXK-lWzGmj",
        "outputId": "1c67edc8-409a-4739-c500-7107320953aa"
      },
      "outputs": [
        {
          "output_type": "stream",
          "name": "stdout",
          "text": [
            "Epoch 1/10\n",
            "782/782 [==============================] - 36s 42ms/step - loss: 0.5314 - accuracy: 0.7286 - val_loss: 0.3919 - val_accuracy: 0.8488\n",
            "Epoch 2/10\n",
            "782/782 [==============================] - 32s 41ms/step - loss: 0.3564 - accuracy: 0.8623 - val_loss: 0.2715 - val_accuracy: 0.8894\n",
            "Epoch 3/10\n",
            "782/782 [==============================] - 31s 40ms/step - loss: 0.3039 - accuracy: 0.8837 - val_loss: 0.2586 - val_accuracy: 0.9044\n",
            "Epoch 4/10\n",
            "782/782 [==============================] - 34s 43ms/step - loss: 0.2725 - accuracy: 0.8970 - val_loss: 0.2366 - val_accuracy: 0.9156\n",
            "Epoch 5/10\n",
            "782/782 [==============================] - 31s 40ms/step - loss: 0.2442 - accuracy: 0.9080 - val_loss: 0.2552 - val_accuracy: 0.9008\n",
            "Epoch 6/10\n",
            "782/782 [==============================] - 31s 40ms/step - loss: 0.2166 - accuracy: 0.9212 - val_loss: 0.1627 - val_accuracy: 0.9446\n",
            "Epoch 7/10\n",
            "782/782 [==============================] - 31s 40ms/step - loss: 0.1890 - accuracy: 0.9342 - val_loss: 0.2901 - val_accuracy: 0.8802\n",
            "Epoch 8/10\n",
            "782/782 [==============================] - 31s 40ms/step - loss: 0.1585 - accuracy: 0.9452 - val_loss: 0.1078 - val_accuracy: 0.9636\n",
            "Epoch 9/10\n",
            "782/782 [==============================] - 34s 43ms/step - loss: 0.1365 - accuracy: 0.9522 - val_loss: 0.0873 - val_accuracy: 0.9724\n",
            "Epoch 10/10\n",
            "782/782 [==============================] - 33s 43ms/step - loss: 0.1138 - accuracy: 0.9615 - val_loss: 0.0871 - val_accuracy: 0.9728\n",
            "782/782 [==============================] - 16s 20ms/step - loss: 0.6991 - accuracy: 0.8218\n",
            "Test acc: 0.822\n"
          ]
        }
      ],
      "source": [
        "callbacks = [\n",
        "    keras.callbacks.ModelCheckpoint(\"one_hot_bidir_lstm.keras\",\n",
        "                                    save_best_only=True)\n",
        "]\n",
        "model.fit(int_train_ds, validation_data=int_val_ds, epochs=10, callbacks=callbacks)\n",
        "model = keras.models.load_model(\"one_hot_bidir_lstm.keras\")\n",
        "print(f\"Test acc: {model.evaluate(int_test_ds)[1]:.3f}\")"
      ]
    },
    {
      "cell_type": "markdown",
      "metadata": {
        "id": "JKW0yb6AzGmj"
      },
      "source": [
        "#### Understanding word embeddings"
      ]
    },
    {
      "cell_type": "markdown",
      "metadata": {
        "id": "3irO5M27zGmj"
      },
      "source": [
        "#### Learning word embeddings with the Embedding layer"
      ]
    },
    {
      "cell_type": "markdown",
      "metadata": {
        "id": "owQ7BSI-zGmj"
      },
      "source": [
        "**Instantiating an `Embedding` layer**"
      ]
    },
    {
      "cell_type": "code",
      "execution_count": 68,
      "metadata": {
        "id": "pD3uFbWIzGmk"
      },
      "outputs": [],
      "source": [
        "embedding_layer = layers.Embedding(input_dim=max_tokens, output_dim=256)"
      ]
    },
    {
      "cell_type": "markdown",
      "metadata": {
        "id": "QPJtdlrAzGmk"
      },
      "source": [
        "**Model that uses an `Embedding` layer trained from scratch**"
      ]
    },
    {
      "cell_type": "code",
      "execution_count": 69,
      "metadata": {
        "colab": {
          "base_uri": "https://localhost:8080/"
        },
        "id": "9p6u4IAOzGmk",
        "outputId": "7d17545d-d9e6-410a-918d-697c0af26a3b"
      },
      "outputs": [
        {
          "output_type": "stream",
          "name": "stdout",
          "text": [
            "Model: \"model_18\"\n",
            "_________________________________________________________________\n",
            " Layer (type)                Output Shape              Param #   \n",
            "=================================================================\n",
            " input_19 (InputLayer)       [(None, None)]            0         \n",
            "                                                                 \n",
            " embedding_17 (Embedding)    (None, None, 256)         2560000   \n",
            "                                                                 \n",
            " bidirectional_18 (Bidirecti  (None, 64)               73984     \n",
            " onal)                                                           \n",
            "                                                                 \n",
            " dropout_18 (Dropout)        (None, 64)                0         \n",
            "                                                                 \n",
            " dense_18 (Dense)            (None, 1)                 65        \n",
            "                                                                 \n",
            "=================================================================\n",
            "Total params: 2,634,049\n",
            "Trainable params: 2,634,049\n",
            "Non-trainable params: 0\n",
            "_________________________________________________________________\n",
            "Epoch 1/10\n",
            "782/782 [==============================] - 42s 50ms/step - loss: 0.5085 - accuracy: 0.7509 - val_loss: 0.3096 - val_accuracy: 0.8764\n",
            "Epoch 2/10\n",
            "782/782 [==============================] - 16s 21ms/step - loss: 0.3506 - accuracy: 0.8571 - val_loss: 0.2666 - val_accuracy: 0.8918\n",
            "Epoch 3/10\n",
            "782/782 [==============================] - 15s 19ms/step - loss: 0.2966 - accuracy: 0.8826 - val_loss: 0.2163 - val_accuracy: 0.9168\n",
            "Epoch 4/10\n",
            "782/782 [==============================] - 14s 18ms/step - loss: 0.2627 - accuracy: 0.8983 - val_loss: 0.2175 - val_accuracy: 0.9124\n",
            "Epoch 5/10\n",
            "782/782 [==============================] - 13s 17ms/step - loss: 0.2287 - accuracy: 0.9151 - val_loss: 0.2766 - val_accuracy: 0.8904\n",
            "Epoch 6/10\n",
            "782/782 [==============================] - 13s 17ms/step - loss: 0.1970 - accuracy: 0.9269 - val_loss: 0.1727 - val_accuracy: 0.9354\n",
            "Epoch 7/10\n",
            "782/782 [==============================] - 14s 17ms/step - loss: 0.1682 - accuracy: 0.9388 - val_loss: 0.2868 - val_accuracy: 0.8932\n",
            "Epoch 8/10\n",
            "782/782 [==============================] - 14s 17ms/step - loss: 0.1417 - accuracy: 0.9488 - val_loss: 0.1192 - val_accuracy: 0.9548\n",
            "Epoch 9/10\n",
            "782/782 [==============================] - 14s 17ms/step - loss: 0.1177 - accuracy: 0.9594 - val_loss: 0.0746 - val_accuracy: 0.9778\n",
            "Epoch 10/10\n",
            "782/782 [==============================] - 13s 16ms/step - loss: 0.1004 - accuracy: 0.9661 - val_loss: 0.0704 - val_accuracy: 0.9806\n",
            "782/782 [==============================] - 7s 8ms/step - loss: 0.5629 - accuracy: 0.8221\n",
            "Test acc: 0.822\n"
          ]
        }
      ],
      "source": [
        "inputs = keras.Input(shape=(None,), dtype=\"int64\")\n",
        "embedded = layers.Embedding(input_dim=max_tokens, output_dim=256)(inputs)\n",
        "x = layers.Bidirectional(layers.LSTM(32))(embedded)\n",
        "x = layers.Dropout(0.5)(x)\n",
        "outputs = layers.Dense(1, activation=\"sigmoid\")(x)\n",
        "model = keras.Model(inputs, outputs)\n",
        "model.compile(optimizer=\"rmsprop\",\n",
        "              loss=\"binary_crossentropy\",\n",
        "              metrics=[\"accuracy\"])\n",
        "model.summary()\n",
        "\n",
        "callbacks = [\n",
        "    keras.callbacks.ModelCheckpoint(\"embeddings_bidir_gru.keras\",\n",
        "                                    save_best_only=True)\n",
        "]\n",
        "model.fit(int_train_ds, validation_data=int_val_ds, epochs=10, callbacks=callbacks)\n",
        "model = keras.models.load_model(\"embeddings_bidir_gru.keras\")\n",
        "print(f\"Test acc: {model.evaluate(int_test_ds)[1]:.3f}\")"
      ]
    },
    {
      "cell_type": "markdown",
      "metadata": {
        "id": "UgXEL3cMzGmk"
      },
      "source": [
        "#### Understanding padding and masking"
      ]
    },
    {
      "cell_type": "markdown",
      "metadata": {
        "id": "0bY8zog-zGmk"
      },
      "source": [
        "**Using an `Embedding` layer with masking enabled**"
      ]
    },
    {
      "cell_type": "code",
      "execution_count": 70,
      "metadata": {
        "colab": {
          "base_uri": "https://localhost:8080/"
        },
        "id": "RbdnbIVVzGmk",
        "outputId": "a7be8c67-7b2d-42ca-ca1b-47dc10dd457c"
      },
      "outputs": [
        {
          "output_type": "stream",
          "name": "stdout",
          "text": [
            "Model: \"model_19\"\n",
            "_________________________________________________________________\n",
            " Layer (type)                Output Shape              Param #   \n",
            "=================================================================\n",
            " input_20 (InputLayer)       [(None, None)]            0         \n",
            "                                                                 \n",
            " embedding_18 (Embedding)    (None, None, 256)         2560000   \n",
            "                                                                 \n",
            " bidirectional_19 (Bidirecti  (None, 64)               73984     \n",
            " onal)                                                           \n",
            "                                                                 \n",
            " dropout_19 (Dropout)        (None, 64)                0         \n",
            "                                                                 \n",
            " dense_19 (Dense)            (None, 1)                 65        \n",
            "                                                                 \n",
            "=================================================================\n",
            "Total params: 2,634,049\n",
            "Trainable params: 2,634,049\n",
            "Non-trainable params: 0\n",
            "_________________________________________________________________\n",
            "Epoch 1/10\n",
            "782/782 [==============================] - 54s 58ms/step - loss: 0.4620 - accuracy: 0.7726 - val_loss: 0.3279 - val_accuracy: 0.8658\n",
            "Epoch 2/10\n",
            "782/782 [==============================] - 20s 26ms/step - loss: 0.3216 - accuracy: 0.8674 - val_loss: 0.2275 - val_accuracy: 0.9058\n",
            "Epoch 3/10\n",
            "782/782 [==============================] - 21s 27ms/step - loss: 0.2688 - accuracy: 0.8936 - val_loss: 0.2980 - val_accuracy: 0.8846\n",
            "Epoch 4/10\n",
            "782/782 [==============================] - 20s 25ms/step - loss: 0.2196 - accuracy: 0.9158 - val_loss: 0.1550 - val_accuracy: 0.9434\n",
            "Epoch 5/10\n",
            "782/782 [==============================] - 20s 26ms/step - loss: 0.1795 - accuracy: 0.9328 - val_loss: 0.1617 - val_accuracy: 0.9368\n",
            "Epoch 6/10\n",
            "782/782 [==============================] - 21s 27ms/step - loss: 0.1477 - accuracy: 0.9457 - val_loss: 0.1002 - val_accuracy: 0.9630\n",
            "Epoch 7/10\n",
            "782/782 [==============================] - 19s 24ms/step - loss: 0.1125 - accuracy: 0.9602 - val_loss: 0.0891 - val_accuracy: 0.9676\n",
            "Epoch 8/10\n",
            "782/782 [==============================] - 19s 25ms/step - loss: 0.0887 - accuracy: 0.9686 - val_loss: 0.0625 - val_accuracy: 0.9776\n",
            "Epoch 9/10\n",
            "782/782 [==============================] - 18s 23ms/step - loss: 0.0755 - accuracy: 0.9744 - val_loss: 0.0530 - val_accuracy: 0.9808\n",
            "Epoch 10/10\n",
            "782/782 [==============================] - 20s 26ms/step - loss: 0.0592 - accuracy: 0.9796 - val_loss: 0.0296 - val_accuracy: 0.9896\n",
            "782/782 [==============================] - 11s 11ms/step - loss: 0.7681 - accuracy: 0.8253\n",
            "Test acc: 0.825\n"
          ]
        }
      ],
      "source": [
        "inputs = keras.Input(shape=(None,), dtype=\"int64\")\n",
        "embedded = layers.Embedding(\n",
        "    input_dim=max_tokens, output_dim=256, mask_zero=True)(inputs)\n",
        "x = layers.Bidirectional(layers.LSTM(32))(embedded)\n",
        "x = layers.Dropout(0.5)(x)\n",
        "outputs = layers.Dense(1, activation=\"sigmoid\")(x)\n",
        "model = keras.Model(inputs, outputs)\n",
        "model.compile(optimizer=\"rmsprop\",\n",
        "              loss=\"binary_crossentropy\",\n",
        "              metrics=[\"accuracy\"])\n",
        "model.summary()\n",
        "\n",
        "callbacks = [\n",
        "    keras.callbacks.ModelCheckpoint(\"embeddings_bidir_gru_with_masking.keras\",\n",
        "                                    save_best_only=True)\n",
        "]\n",
        "model.fit(int_train_ds, validation_data=int_val_ds, epochs=10, callbacks=callbacks)\n",
        "model = keras.models.load_model(\"embeddings_bidir_gru_with_masking.keras\")\n",
        "print(f\"Test acc: {model.evaluate(int_test_ds)[1]:.3f}\")"
      ]
    },
    {
      "cell_type": "markdown",
      "metadata": {
        "id": "R-6H4f9mzGmk"
      },
      "source": [
        "#### Using pretrained word embeddings"
      ]
    },
    {
      "cell_type": "code",
      "execution_count": 71,
      "metadata": {
        "id": "hBk_S_fOzGml"
      },
      "outputs": [],
      "source": [
        "# !wget http://nlp.stanford.edu/data/glove.6B.zip\n",
        "# !unzip -q glove.6B.zip"
      ]
    },
    {
      "cell_type": "markdown",
      "metadata": {
        "id": "iiWORA7xzGml"
      },
      "source": [
        "**Parsing the GloVe word-embeddings file**"
      ]
    },
    {
      "cell_type": "code",
      "execution_count": 72,
      "metadata": {
        "colab": {
          "base_uri": "https://localhost:8080/"
        },
        "id": "1YcJ2fRNzGml",
        "outputId": "1b572c30-db8b-42c9-af0a-7d983126987c"
      },
      "outputs": [
        {
          "output_type": "stream",
          "name": "stdout",
          "text": [
            "Found 400000 word vectors.\n"
          ]
        }
      ],
      "source": [
        "import numpy as np\n",
        "path_to_glove_file = \"glove.6B.100d.txt\"\n",
        "\n",
        "embeddings_index = {}\n",
        "with open(path_to_glove_file) as f:\n",
        "    for line in f:\n",
        "        word, coefs = line.split(maxsplit=1)\n",
        "        coefs = np.fromstring(coefs, \"f\", sep=\" \")\n",
        "        embeddings_index[word] = coefs\n",
        "\n",
        "print(f\"Found {len(embeddings_index)} word vectors.\")"
      ]
    },
    {
      "cell_type": "markdown",
      "metadata": {
        "id": "ImAboinezGml"
      },
      "source": [
        "**Preparing the GloVe word-embeddings matrix**"
      ]
    },
    {
      "cell_type": "code",
      "execution_count": 73,
      "metadata": {
        "id": "OFNdbkIozGmm"
      },
      "outputs": [],
      "source": [
        "embedding_dim = 100\n",
        "\n",
        "vocabulary = text_vectorization.get_vocabulary()\n",
        "word_index = dict(zip(vocabulary, range(len(vocabulary))))\n",
        "\n",
        "embedding_matrix = np.zeros((max_tokens, embedding_dim))\n",
        "for word, i in word_index.items():\n",
        "    if i < max_tokens:\n",
        "        embedding_vector = embeddings_index.get(word)\n",
        "    if embedding_vector is not None:\n",
        "        embedding_matrix[i] = embedding_vector"
      ]
    },
    {
      "cell_type": "code",
      "execution_count": 74,
      "metadata": {
        "id": "GIVFqwHhzGmm"
      },
      "outputs": [],
      "source": [
        "embedding_layer = layers.Embedding(\n",
        "    max_tokens,\n",
        "    embedding_dim,\n",
        "    embeddings_initializer=keras.initializers.Constant(embedding_matrix),\n",
        "    trainable=False,\n",
        "    mask_zero=True,\n",
        ")"
      ]
    },
    {
      "cell_type": "markdown",
      "metadata": {
        "id": "MulNB9RFzGmm"
      },
      "source": [
        "**Model that uses a pretrained Embedding layer**"
      ]
    },
    {
      "cell_type": "code",
      "execution_count": 75,
      "metadata": {
        "id": "i5JzwvyuzGmm",
        "colab": {
          "base_uri": "https://localhost:8080/"
        },
        "outputId": "839d2e31-7d1c-49b1-88ab-523dd2a49da7"
      },
      "outputs": [
        {
          "output_type": "stream",
          "name": "stdout",
          "text": [
            "Model: \"model_20\"\n",
            "_________________________________________________________________\n",
            " Layer (type)                Output Shape              Param #   \n",
            "=================================================================\n",
            " input_21 (InputLayer)       [(None, None)]            0         \n",
            "                                                                 \n",
            " embedding_19 (Embedding)    (None, None, 100)         1000000   \n",
            "                                                                 \n",
            " bidirectional_20 (Bidirecti  (None, 64)               34048     \n",
            " onal)                                                           \n",
            "                                                                 \n",
            " dropout_20 (Dropout)        (None, 64)                0         \n",
            "                                                                 \n",
            " dense_20 (Dense)            (None, 1)                 65        \n",
            "                                                                 \n",
            "=================================================================\n",
            "Total params: 1,034,113\n",
            "Trainable params: 34,113\n",
            "Non-trainable params: 1,000,000\n",
            "_________________________________________________________________\n",
            "Epoch 1/10\n",
            "782/782 [==============================] - 30s 29ms/step - loss: 0.5900 - accuracy: 0.6820 - val_loss: 0.4787 - val_accuracy: 0.7762\n",
            "Epoch 2/10\n",
            "782/782 [==============================] - 20s 25ms/step - loss: 0.4757 - accuracy: 0.7788 - val_loss: 0.5748 - val_accuracy: 0.7106\n",
            "Epoch 3/10\n",
            "782/782 [==============================] - 19s 24ms/step - loss: 0.4311 - accuracy: 0.8041 - val_loss: 0.5060 - val_accuracy: 0.7630\n",
            "Epoch 4/10\n",
            "782/782 [==============================] - 20s 25ms/step - loss: 0.4031 - accuracy: 0.8193 - val_loss: 0.4070 - val_accuracy: 0.8216\n",
            "Epoch 5/10\n",
            "782/782 [==============================] - 20s 25ms/step - loss: 0.3804 - accuracy: 0.8316 - val_loss: 0.3502 - val_accuracy: 0.8484\n",
            "Epoch 6/10\n",
            "782/782 [==============================] - 20s 26ms/step - loss: 0.3631 - accuracy: 0.8407 - val_loss: 0.3502 - val_accuracy: 0.8450\n",
            "Epoch 7/10\n",
            "782/782 [==============================] - 20s 25ms/step - loss: 0.3482 - accuracy: 0.8501 - val_loss: 0.3429 - val_accuracy: 0.8520\n",
            "Epoch 8/10\n",
            "782/782 [==============================] - 20s 25ms/step - loss: 0.3350 - accuracy: 0.8556 - val_loss: 0.2952 - val_accuracy: 0.8784\n",
            "Epoch 9/10\n",
            "782/782 [==============================] - 20s 25ms/step - loss: 0.3210 - accuracy: 0.8644 - val_loss: 0.5257 - val_accuracy: 0.7512\n",
            "Epoch 10/10\n",
            "782/782 [==============================] - 20s 25ms/step - loss: 0.3084 - accuracy: 0.8699 - val_loss: 0.3557 - val_accuracy: 0.8438\n",
            "782/782 [==============================] - 11s 10ms/step - loss: 0.3634 - accuracy: 0.8446\n",
            "Test acc: 0.845\n"
          ]
        }
      ],
      "source": [
        "inputs = keras.Input(shape=(None,), dtype=\"int64\")\n",
        "embedded = embedding_layer(inputs)\n",
        "x = layers.Bidirectional(layers.LSTM(32))(embedded)\n",
        "x = layers.Dropout(0.5)(x)\n",
        "outputs = layers.Dense(1, activation=\"sigmoid\")(x)\n",
        "model = keras.Model(inputs, outputs)\n",
        "model.compile(optimizer=\"rmsprop\",\n",
        "              loss=\"binary_crossentropy\",\n",
        "              metrics=[\"accuracy\"])\n",
        "model.summary()\n",
        "\n",
        "callbacks = [\n",
        "    keras.callbacks.ModelCheckpoint(\"glove_embeddings_sequence_model.keras\",\n",
        "                                    save_best_only=True)\n",
        "]\n",
        "model.fit(int_train_ds, validation_data=int_val_ds, epochs=10, callbacks=callbacks)\n",
        "model = keras.models.load_model(\"glove_embeddings_sequence_model.keras\")\n",
        "print(f\"Test acc: {model.evaluate(int_test_ds)[1]:.3f}\")"
      ]
    },
    {
      "cell_type": "code",
      "execution_count": 75,
      "metadata": {
        "id": "X1wvzq7qC667"
      },
      "outputs": [],
      "source": []
    }
  ],
  "metadata": {
    "accelerator": "GPU",
    "colab": {
      "provenance": []
    },
    "gpuClass": "standard",
    "kernelspec": {
      "display_name": "Python 3",
      "language": "python",
      "name": "python3"
    },
    "language_info": {
      "codemirror_mode": {
        "name": "ipython",
        "version": 3
      },
      "file_extension": ".py",
      "mimetype": "text/x-python",
      "name": "python",
      "nbconvert_exporter": "python",
      "pygments_lexer": "ipython3",
      "version": "3.7.0"
    }
  },
  "nbformat": 4,
  "nbformat_minor": 0
}