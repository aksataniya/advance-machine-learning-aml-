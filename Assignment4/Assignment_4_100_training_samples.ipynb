{
  "cells": [
    {
      "cell_type": "markdown",
      "metadata": {
        "id": "W6LBlBctzGmd"
      },
      "source": [
        "This is a companion notebook for the book [Deep Learning with Python, Second Edition](https://www.manning.com/books/deep-learning-with-python-second-edition?a_aid=keras&a_bid=76564dff). For readability, it only contains runnable code blocks and section titles, and omits everything else in the book: text paragraphs, figures, and pseudocode.\n",
        "\n",
        "**If you want to be able to follow what's going on, I recommend reading the notebook side by side with your copy of the book.**\n",
        "\n",
        "This notebook was generated for TensorFlow 2.6."
      ]
    },
    {
      "cell_type": "markdown",
      "metadata": {
        "id": "54WiKpXbzGmf"
      },
      "source": [
        "### Processing words as a sequence: The sequence model approach"
      ]
    },
    {
      "cell_type": "markdown",
      "metadata": {
        "id": "0Traj_ewzGmg"
      },
      "source": [
        "#### A first practical example"
      ]
    },
    {
      "cell_type": "markdown",
      "metadata": {
        "id": "rmpIJo6SzGmg"
      },
      "source": [
        "**Downloading the data**"
      ]
    },
    {
      "cell_type": "code",
      "execution_count": 19,
      "metadata": {
        "colab": {
          "base_uri": "https://localhost:8080/"
        },
        "id": "aFVsVWKYzGmg",
        "outputId": "3550bd02-d9ae-4b1e-bfa7-6adaeed334e8"
      },
      "outputs": [
        {
          "output_type": "stream",
          "name": "stdout",
          "text": [
            "  % Total    % Received % Xferd  Average Speed   Time    Time     Time  Current\n",
            "                                 Dload  Upload   Total   Spent    Left  Speed\n",
            "100 80.2M  100 80.2M    0     0  9257k      0  0:00:08  0:00:08 --:--:-- 16.6M\n"
          ]
        }
      ],
      "source": [
        "!curl -O https://ai.stanford.edu/~amaas/data/sentiment/aclImdb_v1.tar.gz\n",
        "!tar -xf aclImdb_v1.tar.gz\n",
        "!rm -r aclImdb/train/unsup"
      ]
    },
    {
      "cell_type": "markdown",
      "metadata": {
        "id": "GUIVQxlwzGmh"
      },
      "source": [
        "**Preparing the data**\n",
        "\n",
        "\n",
        "\n",
        "\n",
        "\n",
        "\n",
        "\n",
        "\n",
        "\n",
        "\n",
        "\n",
        "\n",
        "\n",
        "\n",
        "\n",
        "\n",
        "\n",
        "\n",
        "\n",
        "\n",
        "\n",
        "\n",
        "\n",
        "\n",
        "\n",
        "\n",
        "\n",
        "\n"
      ]
    },
    {
      "cell_type": "code",
      "execution_count": 20,
      "metadata": {
        "id": "ffrBYuBgzGmh"
      },
      "outputs": [],
      "source": [
        "# import os, pathlib, shutil, random\n",
        "# from tensorflow import keras\n",
        "# batch_size = 32\n",
        "# base_dir = pathlib.Path(\"aclImdb\")\n",
        "# val_dir = base_dir / \"val\"\n",
        "# train_dir = base_dir / \"train\"\n",
        "# for category in (\"neg\", \"pos\"):\n",
        "#     os.makedirs(val_dir / category)\n",
        "#     files = os.listdir(train_dir / category)\n",
        "#     random.Random(1337).shuffle(files)\n",
        "#     num_val_samples = int(0.2 * len(files))\n",
        "#     val_files = files[-num_val_samples:]\n",
        "#     for fname in val_files:\n",
        "#         shutil.move(train_dir / category / fname,\n",
        "#                     val_dir / category / fname)"
      ]
    },
    {
      "cell_type": "markdown",
      "metadata": {
        "id": "ZeGtpjsSzGmi"
      },
      "source": [
        "**Preparing integer sequence datasets**"
      ]
    },
    {
      "cell_type": "code",
      "execution_count": 21,
      "metadata": {
        "colab": {
          "base_uri": "https://localhost:8080/"
        },
        "id": "C0gv2-hXzGmi",
        "outputId": "2af8f695-b151-4245-ce92-f6da8ad76f32"
      },
      "outputs": [
        {
          "output_type": "stream",
          "name": "stdout",
          "text": [
            "Found 25000 files belonging to 2 classes.\n",
            "Found 5000 files belonging to 2 classes.\n",
            "Found 25000 files belonging to 2 classes.\n"
          ]
        }
      ],
      "source": [
        "train_ds = keras.utils.text_dataset_from_directory(\n",
        "    \"aclImdb/train\", batch_size=batch_size\n",
        ")\n",
        "#train_ds = train_ds.take(100)\n",
        "val_ds = keras.utils.text_dataset_from_directory(\n",
        "    \"aclImdb/val\", batch_size=batch_size\n",
        ")\n",
        "#val_ds = val_ds.take(10000)\n",
        "test_ds = keras.utils.text_dataset_from_directory(\n",
        "    \"aclImdb/test\", batch_size=batch_size\n",
        ")\n",
        "text_only_train_ds = train_ds.map(lambda x, y: x)\n",
        "from tensorflow.keras import layers\n",
        "\n",
        "max_length = 150 # change 1 : 150 Cutoff reviews after 150 words\n",
        "max_tokens = 10000\n",
        "text_vectorization = layers.TextVectorization(\n",
        "    max_tokens=max_tokens,\n",
        "    output_mode=\"int\",\n",
        "    output_sequence_length=max_length,\n",
        ")\n",
        "text_vectorization.adapt(text_only_train_ds)\n",
        "\n",
        "train_ds = train_ds.take(100)\n",
        "int_train_ds = train_ds.map(\n",
        "    lambda x, y: (text_vectorization(x), y),\n",
        "    num_parallel_calls=4)\n",
        "val_ds = val_ds.take(10000)\n",
        "int_val_ds = val_ds.map(\n",
        "    lambda x, y: (text_vectorization(x), y),\n",
        "    num_parallel_calls=4)\n",
        "int_test_ds = test_ds.map(\n",
        "    lambda x, y: (text_vectorization(x), y),\n",
        "    num_parallel_calls=4)"
      ]
    },
    {
      "cell_type": "markdown",
      "metadata": {
        "id": "NW0_KDINzGmi"
      },
      "source": [
        "**A sequence model built on one-hot encoded vector sequences**"
      ]
    },
    {
      "cell_type": "code",
      "execution_count": 22,
      "metadata": {
        "colab": {
          "base_uri": "https://localhost:8080/"
        },
        "id": "f-iSMHSpzGmi",
        "outputId": "7c6ae364-544e-423c-b68a-81f35f0440b5"
      },
      "outputs": [
        {
          "output_type": "stream",
          "name": "stdout",
          "text": [
            "Model: \"model_4\"\n",
            "_________________________________________________________________\n",
            " Layer (type)                Output Shape              Param #   \n",
            "=================================================================\n",
            " input_5 (InputLayer)        [(None, None)]            0         \n",
            "                                                                 \n",
            " tf.one_hot_1 (TFOpLambda)   (None, None, 10000)       0         \n",
            "                                                                 \n",
            " bidirectional_4 (Bidirectio  (None, 64)               2568448   \n",
            " nal)                                                            \n",
            "                                                                 \n",
            " dropout_4 (Dropout)         (None, 64)                0         \n",
            "                                                                 \n",
            " dense_4 (Dense)             (None, 1)                 65        \n",
            "                                                                 \n",
            "=================================================================\n",
            "Total params: 2,568,513\n",
            "Trainable params: 2,568,513\n",
            "Non-trainable params: 0\n",
            "_________________________________________________________________\n"
          ]
        }
      ],
      "source": [
        "import tensorflow as tf\n",
        "inputs = keras.Input(shape=(None,), dtype=\"int64\")\n",
        "embedded = tf.one_hot(inputs, depth=max_tokens)\n",
        "x = layers.Bidirectional(layers.LSTM(32))(embedded)\n",
        "x = layers.Dropout(0.5)(x)\n",
        "outputs = layers.Dense(1, activation=\"sigmoid\")(x)\n",
        "model = keras.Model(inputs, outputs)\n",
        "model.compile(optimizer=\"rmsprop\",\n",
        "              loss=\"binary_crossentropy\",\n",
        "              metrics=[\"accuracy\"])\n",
        "model.summary()"
      ]
    },
    {
      "cell_type": "markdown",
      "metadata": {
        "id": "Qxx38lKpzGmj"
      },
      "source": [
        "**Training a first basic sequence model**"
      ]
    },
    {
      "cell_type": "code",
      "execution_count": 23,
      "metadata": {
        "colab": {
          "base_uri": "https://localhost:8080/"
        },
        "id": "7OIXK-lWzGmj",
        "outputId": "cea5aa09-91a0-43dc-99c9-87c49aff867a"
      },
      "outputs": [
        {
          "output_type": "stream",
          "name": "stdout",
          "text": [
            "Epoch 1/10\n",
            "100/100 [==============================] - 11s 74ms/step - loss: 0.6927 - accuracy: 0.5272 - val_loss: 0.6907 - val_accuracy: 0.5610\n",
            "Epoch 2/10\n",
            "100/100 [==============================] - 9s 89ms/step - loss: 0.6747 - accuracy: 0.6153 - val_loss: 0.6023 - val_accuracy: 0.7174\n",
            "Epoch 3/10\n",
            "100/100 [==============================] - 9s 90ms/step - loss: 0.5535 - accuracy: 0.7416 - val_loss: 0.5212 - val_accuracy: 0.7520\n",
            "Epoch 4/10\n",
            "100/100 [==============================] - 7s 69ms/step - loss: 0.4115 - accuracy: 0.8400 - val_loss: 0.4734 - val_accuracy: 0.7982\n",
            "Epoch 5/10\n",
            "100/100 [==============================] - 9s 88ms/step - loss: 0.3173 - accuracy: 0.8941 - val_loss: 0.3998 - val_accuracy: 0.8298\n",
            "Epoch 6/10\n",
            "100/100 [==============================] - 7s 67ms/step - loss: 0.2648 - accuracy: 0.9053 - val_loss: 0.4093 - val_accuracy: 0.8346\n",
            "Epoch 7/10\n",
            "100/100 [==============================] - 9s 88ms/step - loss: 0.2045 - accuracy: 0.9375 - val_loss: 0.5235 - val_accuracy: 0.8176\n",
            "Epoch 8/10\n",
            "100/100 [==============================] - 7s 66ms/step - loss: 0.1615 - accuracy: 0.9528 - val_loss: 0.5173 - val_accuracy: 0.8222\n",
            "Epoch 9/10\n",
            "100/100 [==============================] - 7s 66ms/step - loss: 0.1441 - accuracy: 0.9572 - val_loss: 0.5262 - val_accuracy: 0.7900\n",
            "Epoch 10/10\n",
            "100/100 [==============================] - 7s 67ms/step - loss: 0.1299 - accuracy: 0.9597 - val_loss: 0.4180 - val_accuracy: 0.8092\n",
            "782/782 [==============================] - 17s 21ms/step - loss: 0.4362 - accuracy: 0.8022\n",
            "Test acc: 0.802\n"
          ]
        }
      ],
      "source": [
        "callbacks = [\n",
        "    keras.callbacks.ModelCheckpoint(\"one_hot_bidir_lstm.keras\",\n",
        "                                    save_best_only=True)\n",
        "]\n",
        "model.fit(int_train_ds, validation_data=int_val_ds, epochs=10, callbacks=callbacks)\n",
        "model = keras.models.load_model(\"one_hot_bidir_lstm.keras\")\n",
        "print(f\"Test acc: {model.evaluate(int_test_ds)[1]:.3f}\")"
      ]
    },
    {
      "cell_type": "markdown",
      "metadata": {
        "id": "JKW0yb6AzGmj"
      },
      "source": [
        "#### Understanding word embeddings"
      ]
    },
    {
      "cell_type": "markdown",
      "metadata": {
        "id": "3irO5M27zGmj"
      },
      "source": [
        "#### Learning word embeddings with the Embedding layer"
      ]
    },
    {
      "cell_type": "markdown",
      "metadata": {
        "id": "owQ7BSI-zGmj"
      },
      "source": [
        "**Instantiating an `Embedding` layer**"
      ]
    },
    {
      "cell_type": "code",
      "execution_count": 24,
      "metadata": {
        "id": "pD3uFbWIzGmk"
      },
      "outputs": [],
      "source": [
        "embedding_layer = layers.Embedding(input_dim=max_tokens, output_dim=256)"
      ]
    },
    {
      "cell_type": "markdown",
      "metadata": {
        "id": "QPJtdlrAzGmk"
      },
      "source": [
        "**Model that uses an `Embedding` layer trained from scratch**"
      ]
    },
    {
      "cell_type": "code",
      "execution_count": 25,
      "metadata": {
        "colab": {
          "base_uri": "https://localhost:8080/"
        },
        "id": "9p6u4IAOzGmk",
        "outputId": "f762f1d7-3f30-4dc6-e848-8a31e5247980"
      },
      "outputs": [
        {
          "output_type": "stream",
          "name": "stdout",
          "text": [
            "Model: \"model_5\"\n",
            "_________________________________________________________________\n",
            " Layer (type)                Output Shape              Param #   \n",
            "=================================================================\n",
            " input_6 (InputLayer)        [(None, None)]            0         \n",
            "                                                                 \n",
            " embedding_5 (Embedding)     (None, None, 256)         2560000   \n",
            "                                                                 \n",
            " bidirectional_5 (Bidirectio  (None, 64)               73984     \n",
            " nal)                                                            \n",
            "                                                                 \n",
            " dropout_5 (Dropout)         (None, 64)                0         \n",
            "                                                                 \n",
            " dense_5 (Dense)             (None, 1)                 65        \n",
            "                                                                 \n",
            "=================================================================\n",
            "Total params: 2,634,049\n",
            "Trainable params: 2,634,049\n",
            "Non-trainable params: 0\n",
            "_________________________________________________________________\n",
            "Epoch 1/10\n",
            "100/100 [==============================] - 15s 121ms/step - loss: 0.6886 - accuracy: 0.5288 - val_loss: 0.6473 - val_accuracy: 0.6620\n",
            "Epoch 2/10\n",
            "100/100 [==============================] - 8s 81ms/step - loss: 0.5659 - accuracy: 0.7266 - val_loss: 0.5224 - val_accuracy: 0.7642\n",
            "Epoch 3/10\n",
            "100/100 [==============================] - 5s 54ms/step - loss: 0.4259 - accuracy: 0.8266 - val_loss: 0.4725 - val_accuracy: 0.7828\n",
            "Epoch 4/10\n",
            "100/100 [==============================] - 4s 43ms/step - loss: 0.3167 - accuracy: 0.8844 - val_loss: 0.5346 - val_accuracy: 0.7830\n",
            "Epoch 5/10\n",
            "100/100 [==============================] - 5s 49ms/step - loss: 0.2287 - accuracy: 0.9178 - val_loss: 0.4274 - val_accuracy: 0.8112\n",
            "Epoch 6/10\n",
            "100/100 [==============================] - 3s 34ms/step - loss: 0.1586 - accuracy: 0.9484 - val_loss: 0.4364 - val_accuracy: 0.8220\n",
            "Epoch 7/10\n",
            "100/100 [==============================] - 3s 33ms/step - loss: 0.1244 - accuracy: 0.9638 - val_loss: 0.4495 - val_accuracy: 0.8364\n",
            "Epoch 8/10\n",
            "100/100 [==============================] - 3s 34ms/step - loss: 0.0859 - accuracy: 0.9784 - val_loss: 0.4585 - val_accuracy: 0.8284\n",
            "Epoch 9/10\n",
            "100/100 [==============================] - 3s 30ms/step - loss: 0.0637 - accuracy: 0.9791 - val_loss: 0.5386 - val_accuracy: 0.8360\n",
            "Epoch 10/10\n",
            "100/100 [==============================] - 3s 28ms/step - loss: 0.0558 - accuracy: 0.9834 - val_loss: 0.5513 - val_accuracy: 0.7952\n",
            "782/782 [==============================] - 8s 9ms/step - loss: 0.4854 - accuracy: 0.7751\n",
            "Test acc: 0.775\n"
          ]
        }
      ],
      "source": [
        "inputs = keras.Input(shape=(None,), dtype=\"int64\")\n",
        "embedded = layers.Embedding(input_dim=max_tokens, output_dim=256)(inputs)\n",
        "x = layers.Bidirectional(layers.LSTM(32))(embedded)\n",
        "x = layers.Dropout(0.5)(x)\n",
        "outputs = layers.Dense(1, activation=\"sigmoid\")(x)\n",
        "model = keras.Model(inputs, outputs)\n",
        "model.compile(optimizer=\"rmsprop\",\n",
        "              loss=\"binary_crossentropy\",\n",
        "              metrics=[\"accuracy\"])\n",
        "model.summary()\n",
        "\n",
        "callbacks = [\n",
        "    keras.callbacks.ModelCheckpoint(\"embeddings_bidir_gru.keras\",\n",
        "                                    save_best_only=True)\n",
        "]\n",
        "model.fit(int_train_ds, validation_data=int_val_ds, epochs=10, callbacks=callbacks)\n",
        "model = keras.models.load_model(\"embeddings_bidir_gru.keras\")\n",
        "print(f\"Test acc: {model.evaluate(int_test_ds)[1]:.3f}\")"
      ]
    },
    {
      "cell_type": "markdown",
      "metadata": {
        "id": "UgXEL3cMzGmk"
      },
      "source": [
        "#### Understanding padding and masking"
      ]
    },
    {
      "cell_type": "markdown",
      "metadata": {
        "id": "0bY8zog-zGmk"
      },
      "source": [
        "**Using an `Embedding` layer with masking enabled**"
      ]
    },
    {
      "cell_type": "code",
      "execution_count": 26,
      "metadata": {
        "colab": {
          "base_uri": "https://localhost:8080/"
        },
        "id": "RbdnbIVVzGmk",
        "outputId": "9303416c-cd31-43ae-a345-31af1ff84c0d"
      },
      "outputs": [
        {
          "output_type": "stream",
          "name": "stdout",
          "text": [
            "Model: \"model_6\"\n",
            "_________________________________________________________________\n",
            " Layer (type)                Output Shape              Param #   \n",
            "=================================================================\n",
            " input_7 (InputLayer)        [(None, None)]            0         \n",
            "                                                                 \n",
            " embedding_6 (Embedding)     (None, None, 256)         2560000   \n",
            "                                                                 \n",
            " bidirectional_6 (Bidirectio  (None, 64)               73984     \n",
            " nal)                                                            \n",
            "                                                                 \n",
            " dropout_6 (Dropout)         (None, 64)                0         \n",
            "                                                                 \n",
            " dense_6 (Dense)             (None, 1)                 65        \n",
            "                                                                 \n",
            "=================================================================\n",
            "Total params: 2,634,049\n",
            "Trainable params: 2,634,049\n",
            "Non-trainable params: 0\n",
            "_________________________________________________________________\n",
            "Epoch 1/10\n",
            "100/100 [==============================] - 23s 144ms/step - loss: 0.6880 - accuracy: 0.5475 - val_loss: 0.6360 - val_accuracy: 0.6820\n",
            "Epoch 2/10\n",
            "100/100 [==============================] - 9s 91ms/step - loss: 0.5515 - accuracy: 0.7266 - val_loss: 0.4654 - val_accuracy: 0.7956\n",
            "Epoch 3/10\n",
            "100/100 [==============================] - 7s 68ms/step - loss: 0.3812 - accuracy: 0.8394 - val_loss: 0.4041 - val_accuracy: 0.8196\n",
            "Epoch 4/10\n",
            "100/100 [==============================] - 6s 64ms/step - loss: 0.2684 - accuracy: 0.8994 - val_loss: 0.3993 - val_accuracy: 0.8256\n",
            "Epoch 5/10\n",
            "100/100 [==============================] - 5s 48ms/step - loss: 0.1807 - accuracy: 0.9356 - val_loss: 0.4534 - val_accuracy: 0.7984\n",
            "Epoch 6/10\n",
            "100/100 [==============================] - 5s 52ms/step - loss: 0.1410 - accuracy: 0.9522 - val_loss: 0.5344 - val_accuracy: 0.7998\n",
            "Epoch 7/10\n",
            "100/100 [==============================] - 4s 37ms/step - loss: 0.0937 - accuracy: 0.9691 - val_loss: 0.5568 - val_accuracy: 0.8138\n",
            "Epoch 8/10\n",
            "100/100 [==============================] - 4s 39ms/step - loss: 0.0744 - accuracy: 0.9731 - val_loss: 0.4922 - val_accuracy: 0.8268\n",
            "Epoch 9/10\n",
            "100/100 [==============================] - 5s 45ms/step - loss: 0.0595 - accuracy: 0.9797 - val_loss: 0.4971 - val_accuracy: 0.8198\n",
            "Epoch 10/10\n",
            "100/100 [==============================] - 4s 36ms/step - loss: 0.0504 - accuracy: 0.9831 - val_loss: 0.5901 - val_accuracy: 0.8198\n",
            "782/782 [==============================] - 10s 10ms/step - loss: 0.4473 - accuracy: 0.8015\n",
            "Test acc: 0.802\n"
          ]
        }
      ],
      "source": [
        "inputs = keras.Input(shape=(None,), dtype=\"int64\")\n",
        "embedded = layers.Embedding(\n",
        "    input_dim=max_tokens, output_dim=256, mask_zero=True)(inputs)\n",
        "x = layers.Bidirectional(layers.LSTM(32))(embedded)\n",
        "x = layers.Dropout(0.5)(x)\n",
        "outputs = layers.Dense(1, activation=\"sigmoid\")(x)\n",
        "model = keras.Model(inputs, outputs)\n",
        "model.compile(optimizer=\"rmsprop\",\n",
        "              loss=\"binary_crossentropy\",\n",
        "              metrics=[\"accuracy\"])\n",
        "model.summary()\n",
        "\n",
        "callbacks = [\n",
        "    keras.callbacks.ModelCheckpoint(\"embeddings_bidir_gru_with_masking.keras\",\n",
        "                                    save_best_only=True)\n",
        "]\n",
        "model.fit(int_train_ds, validation_data=int_val_ds, epochs=10, callbacks=callbacks)\n",
        "model = keras.models.load_model(\"embeddings_bidir_gru_with_masking.keras\")\n",
        "print(f\"Test acc: {model.evaluate(int_test_ds)[1]:.3f}\")"
      ]
    },
    {
      "cell_type": "markdown",
      "metadata": {
        "id": "R-6H4f9mzGmk"
      },
      "source": [
        "#### Using pretrained word embeddings"
      ]
    },
    {
      "cell_type": "code",
      "execution_count": 27,
      "metadata": {
        "colab": {
          "base_uri": "https://localhost:8080/"
        },
        "id": "hBk_S_fOzGml",
        "outputId": "b860d9c8-ec44-4c90-cd67-dc182de7407f"
      },
      "outputs": [
        {
          "output_type": "stream",
          "name": "stdout",
          "text": [
            "--2023-04-22 21:59:24--  http://nlp.stanford.edu/data/glove.6B.zip\n",
            "Resolving nlp.stanford.edu (nlp.stanford.edu)... 171.64.67.140\n",
            "Connecting to nlp.stanford.edu (nlp.stanford.edu)|171.64.67.140|:80... connected.\n",
            "HTTP request sent, awaiting response... 302 Found\n",
            "Location: https://nlp.stanford.edu/data/glove.6B.zip [following]\n",
            "--2023-04-22 21:59:24--  https://nlp.stanford.edu/data/glove.6B.zip\n",
            "Connecting to nlp.stanford.edu (nlp.stanford.edu)|171.64.67.140|:443... connected.\n",
            "HTTP request sent, awaiting response... 301 Moved Permanently\n",
            "Location: https://downloads.cs.stanford.edu/nlp/data/glove.6B.zip [following]\n",
            "--2023-04-22 21:59:25--  https://downloads.cs.stanford.edu/nlp/data/glove.6B.zip\n",
            "Resolving downloads.cs.stanford.edu (downloads.cs.stanford.edu)... 171.64.64.22\n",
            "Connecting to downloads.cs.stanford.edu (downloads.cs.stanford.edu)|171.64.64.22|:443... connected.\n",
            "HTTP request sent, awaiting response... 200 OK\n",
            "Length: 862182613 (822M) [application/zip]\n",
            "Saving to: ‘glove.6B.zip.1’\n",
            "\n",
            "glove.6B.zip.1      100%[===================>] 822.24M  4.93MB/s    in 2m 43s  \n",
            "\n",
            "2023-04-22 22:02:09 (5.03 MB/s) - ‘glove.6B.zip.1’ saved [862182613/862182613]\n",
            "\n",
            "replace glove.6B.50d.txt? [y]es, [n]o, [A]ll, [N]one, [r]ename: y\n",
            "replace glove.6B.100d.txt? [y]es, [n]o, [A]ll, [N]one, [r]ename: A\n",
            "A\n",
            "\n",
            "N\n"
          ]
        }
      ],
      "source": [
        "!wget http://nlp.stanford.edu/data/glove.6B.zip\n",
        "!unzip -q glove.6B.zip"
      ]
    },
    {
      "cell_type": "markdown",
      "metadata": {
        "id": "iiWORA7xzGml"
      },
      "source": [
        "**Parsing the GloVe word-embeddings file**"
      ]
    },
    {
      "cell_type": "code",
      "execution_count": 28,
      "metadata": {
        "colab": {
          "base_uri": "https://localhost:8080/"
        },
        "id": "1YcJ2fRNzGml",
        "outputId": "f9643513-9cf6-42c2-bff0-30f77cbeaebf"
      },
      "outputs": [
        {
          "output_type": "stream",
          "name": "stdout",
          "text": [
            "Found 400000 word vectors.\n"
          ]
        }
      ],
      "source": [
        "import numpy as np\n",
        "path_to_glove_file = \"glove.6B.100d.txt\"\n",
        "\n",
        "embeddings_index = {}\n",
        "with open(path_to_glove_file) as f:\n",
        "    for line in f:\n",
        "        word, coefs = line.split(maxsplit=1)\n",
        "        coefs = np.fromstring(coefs, \"f\", sep=\" \")\n",
        "        embeddings_index[word] = coefs\n",
        "\n",
        "print(f\"Found {len(embeddings_index)} word vectors.\")"
      ]
    },
    {
      "cell_type": "markdown",
      "metadata": {
        "id": "ImAboinezGml"
      },
      "source": [
        "**Preparing the GloVe word-embeddings matrix**"
      ]
    },
    {
      "cell_type": "code",
      "execution_count": 29,
      "metadata": {
        "id": "OFNdbkIozGmm"
      },
      "outputs": [],
      "source": [
        "embedding_dim = 100\n",
        "\n",
        "vocabulary = text_vectorization.get_vocabulary()\n",
        "word_index = dict(zip(vocabulary, range(len(vocabulary))))\n",
        "\n",
        "embedding_matrix = np.zeros((max_tokens, embedding_dim))\n",
        "for word, i in word_index.items():\n",
        "    if i < max_tokens:\n",
        "        embedding_vector = embeddings_index.get(word)\n",
        "    if embedding_vector is not None:\n",
        "        embedding_matrix[i] = embedding_vector"
      ]
    },
    {
      "cell_type": "code",
      "execution_count": 30,
      "metadata": {
        "id": "GIVFqwHhzGmm"
      },
      "outputs": [],
      "source": [
        "embedding_layer = layers.Embedding(\n",
        "    max_tokens,\n",
        "    embedding_dim,\n",
        "    embeddings_initializer=keras.initializers.Constant(embedding_matrix),\n",
        "    trainable=False,\n",
        "    mask_zero=True,\n",
        ")"
      ]
    },
    {
      "cell_type": "markdown",
      "metadata": {
        "id": "MulNB9RFzGmm"
      },
      "source": [
        "**Model that uses a pretrained Embedding layer**"
      ]
    },
    {
      "cell_type": "code",
      "execution_count": 31,
      "metadata": {
        "id": "i5JzwvyuzGmm",
        "colab": {
          "base_uri": "https://localhost:8080/"
        },
        "outputId": "e675848b-4e64-4abe-8795-910db5724d3c"
      },
      "outputs": [
        {
          "output_type": "stream",
          "name": "stdout",
          "text": [
            "Model: \"model_7\"\n",
            "_________________________________________________________________\n",
            " Layer (type)                Output Shape              Param #   \n",
            "=================================================================\n",
            " input_8 (InputLayer)        [(None, None)]            0         \n",
            "                                                                 \n",
            " embedding_7 (Embedding)     (None, None, 100)         1000000   \n",
            "                                                                 \n",
            " bidirectional_7 (Bidirectio  (None, 64)               34048     \n",
            " nal)                                                            \n",
            "                                                                 \n",
            " dropout_7 (Dropout)         (None, 64)                0         \n",
            "                                                                 \n",
            " dense_7 (Dense)             (None, 1)                 65        \n",
            "                                                                 \n",
            "=================================================================\n",
            "Total params: 1,034,113\n",
            "Trainable params: 34,113\n",
            "Non-trainable params: 1,000,000\n",
            "_________________________________________________________________\n",
            "Epoch 1/10\n",
            "100/100 [==============================] - 16s 65ms/step - loss: 0.6889 - accuracy: 0.5547 - val_loss: 0.6553 - val_accuracy: 0.6236\n",
            "Epoch 2/10\n",
            "100/100 [==============================] - 4s 43ms/step - loss: 0.6361 - accuracy: 0.6434 - val_loss: 0.5892 - val_accuracy: 0.6982\n",
            "Epoch 3/10\n",
            "100/100 [==============================] - 4s 44ms/step - loss: 0.6010 - accuracy: 0.6750 - val_loss: 0.5836 - val_accuracy: 0.7008\n",
            "Epoch 4/10\n",
            "100/100 [==============================] - 4s 41ms/step - loss: 0.5708 - accuracy: 0.7094 - val_loss: 0.5267 - val_accuracy: 0.7426\n",
            "Epoch 5/10\n",
            "100/100 [==============================] - 5s 50ms/step - loss: 0.5371 - accuracy: 0.7344 - val_loss: 0.5165 - val_accuracy: 0.7546\n",
            "Epoch 6/10\n",
            "100/100 [==============================] - 4s 41ms/step - loss: 0.5165 - accuracy: 0.7466 - val_loss: 0.5051 - val_accuracy: 0.7544\n",
            "Epoch 7/10\n",
            "100/100 [==============================] - 3s 34ms/step - loss: 0.5102 - accuracy: 0.7547 - val_loss: 0.5121 - val_accuracy: 0.7538\n",
            "Epoch 8/10\n",
            "100/100 [==============================] - 4s 40ms/step - loss: 0.4909 - accuracy: 0.7694 - val_loss: 0.4870 - val_accuracy: 0.7710\n",
            "Epoch 9/10\n",
            "100/100 [==============================] - 4s 42ms/step - loss: 0.4755 - accuracy: 0.7756 - val_loss: 0.4750 - val_accuracy: 0.7740\n",
            "Epoch 10/10\n",
            "100/100 [==============================] - 4s 43ms/step - loss: 0.4610 - accuracy: 0.7856 - val_loss: 0.4779 - val_accuracy: 0.7736\n",
            "782/782 [==============================] - 11s 11ms/step - loss: 0.4785 - accuracy: 0.7697\n",
            "Test acc: 0.770\n"
          ]
        }
      ],
      "source": [
        "inputs = keras.Input(shape=(None,), dtype=\"int64\")\n",
        "embedded = embedding_layer(inputs)\n",
        "x = layers.Bidirectional(layers.LSTM(32))(embedded)\n",
        "x = layers.Dropout(0.5)(x)\n",
        "outputs = layers.Dense(1, activation=\"sigmoid\")(x)\n",
        "model = keras.Model(inputs, outputs)\n",
        "model.compile(optimizer=\"rmsprop\",\n",
        "              loss=\"binary_crossentropy\",\n",
        "              metrics=[\"accuracy\"])\n",
        "model.summary()\n",
        "\n",
        "callbacks = [\n",
        "    keras.callbacks.ModelCheckpoint(\"glove_embeddings_sequence_model.keras\",\n",
        "                                    save_best_only=True)\n",
        "]\n",
        "model.fit(int_train_ds, validation_data=int_val_ds, epochs=10, callbacks=callbacks)\n",
        "model = keras.models.load_model(\"glove_embeddings_sequence_model.keras\")\n",
        "print(f\"Test acc: {model.evaluate(int_test_ds)[1]:.3f}\")"
      ]
    },
    {
      "cell_type": "code",
      "execution_count": 31,
      "metadata": {
        "id": "X1wvzq7qC667"
      },
      "outputs": [],
      "source": []
    }
  ],
  "metadata": {
    "accelerator": "GPU",
    "colab": {
      "provenance": []
    },
    "gpuClass": "standard",
    "kernelspec": {
      "display_name": "Python 3",
      "language": "python",
      "name": "python3"
    },
    "language_info": {
      "codemirror_mode": {
        "name": "ipython",
        "version": 3
      },
      "file_extension": ".py",
      "mimetype": "text/x-python",
      "name": "python",
      "nbconvert_exporter": "python",
      "pygments_lexer": "ipython3",
      "version": "3.7.0"
    }
  },
  "nbformat": 4,
  "nbformat_minor": 0
}