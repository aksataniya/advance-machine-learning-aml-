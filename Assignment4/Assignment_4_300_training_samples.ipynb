{
  "cells": [
    {
      "cell_type": "markdown",
      "metadata": {
        "id": "W6LBlBctzGmd"
      },
      "source": [
        "This is a companion notebook for the book [Deep Learning with Python, Second Edition](https://www.manning.com/books/deep-learning-with-python-second-edition?a_aid=keras&a_bid=76564dff). For readability, it only contains runnable code blocks and section titles, and omits everything else in the book: text paragraphs, figures, and pseudocode.\n",
        "\n",
        "**If you want to be able to follow what's going on, I recommend reading the notebook side by side with your copy of the book.**\n",
        "\n",
        "This notebook was generated for TensorFlow 2.6."
      ]
    },
    {
      "cell_type": "markdown",
      "metadata": {
        "id": "54WiKpXbzGmf"
      },
      "source": [
        "### Processing words as a sequence: The sequence model approach"
      ]
    },
    {
      "cell_type": "markdown",
      "metadata": {
        "id": "0Traj_ewzGmg"
      },
      "source": [
        "#### A first practical example"
      ]
    },
    {
      "cell_type": "markdown",
      "metadata": {
        "id": "rmpIJo6SzGmg"
      },
      "source": [
        "**Downloading the data**"
      ]
    },
    {
      "cell_type": "code",
      "execution_count": 32,
      "metadata": {
        "colab": {
          "base_uri": "https://localhost:8080/"
        },
        "id": "aFVsVWKYzGmg",
        "outputId": "ba490c38-faa5-42da-9245-d6104518c6f0"
      },
      "outputs": [
        {
          "output_type": "stream",
          "name": "stdout",
          "text": [
            "  % Total    % Received % Xferd  Average Speed   Time    Time     Time  Current\n",
            "                                 Dload  Upload   Total   Spent    Left  Speed\n",
            "100 80.2M  100 80.2M    0     0  9398k      0  0:00:08  0:00:08 --:--:-- 16.5M\n"
          ]
        }
      ],
      "source": [
        "!curl -O https://ai.stanford.edu/~amaas/data/sentiment/aclImdb_v1.tar.gz\n",
        "!tar -xf aclImdb_v1.tar.gz\n",
        "!rm -r aclImdb/train/unsup"
      ]
    },
    {
      "cell_type": "markdown",
      "metadata": {
        "id": "GUIVQxlwzGmh"
      },
      "source": [
        "**Preparing the data**\n",
        "\n",
        "\n",
        "\n",
        "\n",
        "\n",
        "\n",
        "\n",
        "\n",
        "\n",
        "\n",
        "\n",
        "\n",
        "\n",
        "\n",
        "\n",
        "\n",
        "\n",
        "\n",
        "\n",
        "\n",
        "\n",
        "\n",
        "\n",
        "\n",
        "\n",
        "\n",
        "\n",
        "\n"
      ]
    },
    {
      "cell_type": "code",
      "execution_count": 33,
      "metadata": {
        "id": "ffrBYuBgzGmh"
      },
      "outputs": [],
      "source": [
        "# import os, pathlib, shutil, random\n",
        "# from tensorflow import keras\n",
        "# batch_size = 32\n",
        "# base_dir = pathlib.Path(\"aclImdb\")\n",
        "# val_dir = base_dir / \"val\"\n",
        "# train_dir = base_dir / \"train\"\n",
        "# for category in (\"neg\", \"pos\"):\n",
        "#     os.makedirs(val_dir / category)\n",
        "#     files = os.listdir(train_dir / category)\n",
        "#     random.Random(1337).shuffle(files)\n",
        "#     num_val_samples = int(0.2 * len(files))\n",
        "#     val_files = files[-num_val_samples:]\n",
        "#     for fname in val_files:\n",
        "#         shutil.move(train_dir / category / fname,\n",
        "#                     val_dir / category / fname)"
      ]
    },
    {
      "cell_type": "markdown",
      "metadata": {
        "id": "ZeGtpjsSzGmi"
      },
      "source": [
        "**Preparing integer sequence datasets**"
      ]
    },
    {
      "cell_type": "code",
      "execution_count": 34,
      "metadata": {
        "colab": {
          "base_uri": "https://localhost:8080/"
        },
        "id": "C0gv2-hXzGmi",
        "outputId": "c8a6904a-908b-4eec-d596-2f406f54cb76"
      },
      "outputs": [
        {
          "output_type": "stream",
          "name": "stdout",
          "text": [
            "Found 25000 files belonging to 2 classes.\n",
            "Found 5000 files belonging to 2 classes.\n",
            "Found 25000 files belonging to 2 classes.\n"
          ]
        }
      ],
      "source": [
        "train_ds = keras.utils.text_dataset_from_directory(\n",
        "    \"aclImdb/train\", batch_size=batch_size\n",
        ")\n",
        "\n",
        "val_ds = keras.utils.text_dataset_from_directory(\n",
        "    \"aclImdb/val\", batch_size=batch_size\n",
        ")\n",
        "\n",
        "test_ds = keras.utils.text_dataset_from_directory(\n",
        "    \"aclImdb/test\", batch_size=batch_size\n",
        ")\n",
        "text_only_train_ds = train_ds.map(lambda x, y: x)\n",
        "from tensorflow.keras import layers\n",
        "\n",
        "max_length = 150 \n",
        "max_tokens = 10000\n",
        "text_vectorization = layers.TextVectorization(\n",
        "    max_tokens=max_tokens,\n",
        "    output_mode=\"int\",\n",
        "    output_sequence_length=max_length,\n",
        ")\n",
        "text_vectorization.adapt(text_only_train_ds)\n",
        "\n",
        "train_ds = train_ds.take(300)\n",
        "int_train_ds = train_ds.map(\n",
        "    lambda x, y: (text_vectorization(x), y),\n",
        "    num_parallel_calls=4)\n",
        "val_ds = val_ds.take(10000)\n",
        "int_val_ds = val_ds.map(\n",
        "    lambda x, y: (text_vectorization(x), y),\n",
        "    num_parallel_calls=4)\n",
        "int_test_ds = test_ds.map(\n",
        "    lambda x, y: (text_vectorization(x), y),\n",
        "    num_parallel_calls=4)"
      ]
    },
    {
      "cell_type": "markdown",
      "metadata": {
        "id": "NW0_KDINzGmi"
      },
      "source": [
        "**A sequence model built on one-hot encoded vector sequences**"
      ]
    },
    {
      "cell_type": "code",
      "execution_count": 35,
      "metadata": {
        "colab": {
          "base_uri": "https://localhost:8080/"
        },
        "id": "f-iSMHSpzGmi",
        "outputId": "fd3dba04-fb61-4d13-fe6e-860b3f1ace59"
      },
      "outputs": [
        {
          "output_type": "stream",
          "name": "stdout",
          "text": [
            "Model: \"model_8\"\n",
            "_________________________________________________________________\n",
            " Layer (type)                Output Shape              Param #   \n",
            "=================================================================\n",
            " input_9 (InputLayer)        [(None, None)]            0         \n",
            "                                                                 \n",
            " tf.one_hot_2 (TFOpLambda)   (None, None, 10000)       0         \n",
            "                                                                 \n",
            " bidirectional_8 (Bidirectio  (None, 64)               2568448   \n",
            " nal)                                                            \n",
            "                                                                 \n",
            " dropout_8 (Dropout)         (None, 64)                0         \n",
            "                                                                 \n",
            " dense_8 (Dense)             (None, 1)                 65        \n",
            "                                                                 \n",
            "=================================================================\n",
            "Total params: 2,568,513\n",
            "Trainable params: 2,568,513\n",
            "Non-trainable params: 0\n",
            "_________________________________________________________________\n"
          ]
        }
      ],
      "source": [
        "import tensorflow as tf\n",
        "inputs = keras.Input(shape=(None,), dtype=\"int64\")\n",
        "embedded = tf.one_hot(inputs, depth=max_tokens)\n",
        "x = layers.Bidirectional(layers.LSTM(32))(embedded)\n",
        "x = layers.Dropout(0.5)(x)\n",
        "outputs = layers.Dense(1, activation=\"sigmoid\")(x)\n",
        "model = keras.Model(inputs, outputs)\n",
        "model.compile(optimizer=\"rmsprop\",\n",
        "              loss=\"binary_crossentropy\",\n",
        "              metrics=[\"accuracy\"])\n",
        "model.summary()"
      ]
    },
    {
      "cell_type": "markdown",
      "metadata": {
        "id": "Qxx38lKpzGmj"
      },
      "source": [
        "**Training a first basic sequence model**"
      ]
    },
    {
      "cell_type": "code",
      "execution_count": 36,
      "metadata": {
        "colab": {
          "base_uri": "https://localhost:8080/"
        },
        "id": "7OIXK-lWzGmj",
        "outputId": "eab69bac-c602-48db-8d73-0ee076845eb1"
      },
      "outputs": [
        {
          "output_type": "stream",
          "name": "stdout",
          "text": [
            "Epoch 1/10\n",
            "300/300 [==============================] - 19s 50ms/step - loss: 0.6288 - accuracy: 0.6382 - val_loss: 0.4959 - val_accuracy: 0.8162\n",
            "Epoch 2/10\n",
            "300/300 [==============================] - 14s 46ms/step - loss: 0.4380 - accuracy: 0.8173 - val_loss: 0.5155 - val_accuracy: 0.7308\n",
            "Epoch 3/10\n",
            "300/300 [==============================] - 16s 53ms/step - loss: 0.3458 - accuracy: 0.8716 - val_loss: 0.3321 - val_accuracy: 0.8686\n",
            "Epoch 4/10\n",
            "300/300 [==============================] - 16s 53ms/step - loss: 0.2924 - accuracy: 0.8934 - val_loss: 0.3002 - val_accuracy: 0.8778\n",
            "Epoch 5/10\n",
            "300/300 [==============================] - 14s 46ms/step - loss: 0.2527 - accuracy: 0.9126 - val_loss: 0.2864 - val_accuracy: 0.8832\n",
            "Epoch 6/10\n",
            "300/300 [==============================] - 14s 45ms/step - loss: 0.2160 - accuracy: 0.9281 - val_loss: 0.3265 - val_accuracy: 0.8848\n",
            "Epoch 7/10\n",
            "300/300 [==============================] - 14s 46ms/step - loss: 0.1849 - accuracy: 0.9357 - val_loss: 0.2929 - val_accuracy: 0.8878\n",
            "Epoch 8/10\n",
            "300/300 [==============================] - 14s 47ms/step - loss: 0.1564 - accuracy: 0.9494 - val_loss: 0.3240 - val_accuracy: 0.8780\n",
            "Epoch 9/10\n",
            "300/300 [==============================] - 14s 47ms/step - loss: 0.1259 - accuracy: 0.9592 - val_loss: 0.2997 - val_accuracy: 0.8876\n",
            "Epoch 10/10\n",
            "300/300 [==============================] - 14s 47ms/step - loss: 0.1146 - accuracy: 0.9643 - val_loss: 0.3025 - val_accuracy: 0.8904\n",
            "782/782 [==============================] - 16s 20ms/step - loss: 0.3752 - accuracy: 0.8360\n",
            "Test acc: 0.836\n"
          ]
        }
      ],
      "source": [
        "callbacks = [\n",
        "    keras.callbacks.ModelCheckpoint(\"one_hot_bidir_lstm.keras\",\n",
        "                                    save_best_only=True)\n",
        "]\n",
        "model.fit(int_train_ds, validation_data=int_val_ds, epochs=10, callbacks=callbacks)\n",
        "model = keras.models.load_model(\"one_hot_bidir_lstm.keras\")\n",
        "print(f\"Test acc: {model.evaluate(int_test_ds)[1]:.3f}\")"
      ]
    },
    {
      "cell_type": "markdown",
      "metadata": {
        "id": "JKW0yb6AzGmj"
      },
      "source": [
        "#### Understanding word embeddings"
      ]
    },
    {
      "cell_type": "markdown",
      "metadata": {
        "id": "3irO5M27zGmj"
      },
      "source": [
        "#### Learning word embeddings with the Embedding layer"
      ]
    },
    {
      "cell_type": "markdown",
      "metadata": {
        "id": "owQ7BSI-zGmj"
      },
      "source": [
        "**Instantiating an `Embedding` layer**"
      ]
    },
    {
      "cell_type": "code",
      "execution_count": 37,
      "metadata": {
        "id": "pD3uFbWIzGmk"
      },
      "outputs": [],
      "source": [
        "embedding_layer = layers.Embedding(input_dim=max_tokens, output_dim=256)"
      ]
    },
    {
      "cell_type": "markdown",
      "metadata": {
        "id": "QPJtdlrAzGmk"
      },
      "source": [
        "**Model that uses an `Embedding` layer trained from scratch**"
      ]
    },
    {
      "cell_type": "code",
      "execution_count": 38,
      "metadata": {
        "colab": {
          "base_uri": "https://localhost:8080/"
        },
        "id": "9p6u4IAOzGmk",
        "outputId": "6daf3d69-479c-4584-d6cf-a5454e3eac46"
      },
      "outputs": [
        {
          "output_type": "stream",
          "name": "stdout",
          "text": [
            "Model: \"model_9\"\n",
            "_________________________________________________________________\n",
            " Layer (type)                Output Shape              Param #   \n",
            "=================================================================\n",
            " input_10 (InputLayer)       [(None, None)]            0         \n",
            "                                                                 \n",
            " embedding_9 (Embedding)     (None, None, 256)         2560000   \n",
            "                                                                 \n",
            " bidirectional_9 (Bidirectio  (None, 64)               73984     \n",
            " nal)                                                            \n",
            "                                                                 \n",
            " dropout_9 (Dropout)         (None, 64)                0         \n",
            "                                                                 \n",
            " dense_9 (Dense)             (None, 1)                 65        \n",
            "                                                                 \n",
            "=================================================================\n",
            "Total params: 2,634,049\n",
            "Trainable params: 2,634,049\n",
            "Non-trainable params: 0\n",
            "_________________________________________________________________\n",
            "Epoch 1/10\n",
            "300/300 [==============================] - 26s 77ms/step - loss: 0.5936 - accuracy: 0.6809 - val_loss: 0.4377 - val_accuracy: 0.8168\n",
            "Epoch 2/10\n",
            "300/300 [==============================] - 12s 39ms/step - loss: 0.4009 - accuracy: 0.8327 - val_loss: 0.4251 - val_accuracy: 0.8084\n",
            "Epoch 3/10\n",
            "300/300 [==============================] - 8s 27ms/step - loss: 0.3108 - accuracy: 0.8754 - val_loss: 0.3392 - val_accuracy: 0.8644\n",
            "Epoch 4/10\n",
            "300/300 [==============================] - 7s 22ms/step - loss: 0.2512 - accuracy: 0.9081 - val_loss: 0.3153 - val_accuracy: 0.8732\n",
            "Epoch 5/10\n",
            "300/300 [==============================] - 6s 21ms/step - loss: 0.2009 - accuracy: 0.9253 - val_loss: 0.3112 - val_accuracy: 0.8744\n",
            "Epoch 6/10\n",
            "300/300 [==============================] - 6s 21ms/step - loss: 0.1581 - accuracy: 0.9454 - val_loss: 0.3102 - val_accuracy: 0.8806\n",
            "Epoch 7/10\n",
            "300/300 [==============================] - 7s 23ms/step - loss: 0.1246 - accuracy: 0.9579 - val_loss: 0.3652 - val_accuracy: 0.8780\n",
            "Epoch 8/10\n",
            "300/300 [==============================] - 6s 20ms/step - loss: 0.1013 - accuracy: 0.9665 - val_loss: 0.3453 - val_accuracy: 0.8766\n",
            "Epoch 9/10\n",
            "300/300 [==============================] - 6s 19ms/step - loss: 0.0807 - accuracy: 0.9759 - val_loss: 0.4460 - val_accuracy: 0.8832\n",
            "Epoch 10/10\n",
            "300/300 [==============================] - 7s 22ms/step - loss: 0.0594 - accuracy: 0.9807 - val_loss: 0.4216 - val_accuracy: 0.8662\n",
            "782/782 [==============================] - 7s 9ms/step - loss: 0.4698 - accuracy: 0.8127\n",
            "Test acc: 0.813\n"
          ]
        }
      ],
      "source": [
        "inputs = keras.Input(shape=(None,), dtype=\"int64\")\n",
        "embedded = layers.Embedding(input_dim=max_tokens, output_dim=256)(inputs)\n",
        "x = layers.Bidirectional(layers.LSTM(32))(embedded)\n",
        "x = layers.Dropout(0.5)(x)\n",
        "outputs = layers.Dense(1, activation=\"sigmoid\")(x)\n",
        "model = keras.Model(inputs, outputs)\n",
        "model.compile(optimizer=\"rmsprop\",\n",
        "              loss=\"binary_crossentropy\",\n",
        "              metrics=[\"accuracy\"])\n",
        "model.summary()\n",
        "\n",
        "callbacks = [\n",
        "    keras.callbacks.ModelCheckpoint(\"embeddings_bidir_gru.keras\",\n",
        "                                    save_best_only=True)\n",
        "]\n",
        "model.fit(int_train_ds, validation_data=int_val_ds, epochs=10, callbacks=callbacks)\n",
        "model = keras.models.load_model(\"embeddings_bidir_gru.keras\")\n",
        "print(f\"Test acc: {model.evaluate(int_test_ds)[1]:.3f}\")"
      ]
    },
    {
      "cell_type": "markdown",
      "metadata": {
        "id": "UgXEL3cMzGmk"
      },
      "source": [
        "#### Understanding padding and masking"
      ]
    },
    {
      "cell_type": "markdown",
      "metadata": {
        "id": "0bY8zog-zGmk"
      },
      "source": [
        "**Using an `Embedding` layer with masking enabled**"
      ]
    },
    {
      "cell_type": "code",
      "execution_count": 39,
      "metadata": {
        "colab": {
          "base_uri": "https://localhost:8080/"
        },
        "id": "RbdnbIVVzGmk",
        "outputId": "da8ad8b7-7489-4a73-846c-a0921ba441f5"
      },
      "outputs": [
        {
          "output_type": "stream",
          "name": "stdout",
          "text": [
            "Model: \"model_10\"\n",
            "_________________________________________________________________\n",
            " Layer (type)                Output Shape              Param #   \n",
            "=================================================================\n",
            " input_11 (InputLayer)       [(None, None)]            0         \n",
            "                                                                 \n",
            " embedding_10 (Embedding)    (None, None, 256)         2560000   \n",
            "                                                                 \n",
            " bidirectional_10 (Bidirecti  (None, 64)               73984     \n",
            " onal)                                                           \n",
            "                                                                 \n",
            " dropout_10 (Dropout)        (None, 64)                0         \n",
            "                                                                 \n",
            " dense_10 (Dense)            (None, 1)                 65        \n",
            "                                                                 \n",
            "=================================================================\n",
            "Total params: 2,634,049\n",
            "Trainable params: 2,634,049\n",
            "Non-trainable params: 0\n",
            "_________________________________________________________________\n",
            "Epoch 1/10\n",
            "300/300 [==============================] - 36s 91ms/step - loss: 0.5648 - accuracy: 0.6967 - val_loss: 0.4125 - val_accuracy: 0.8164\n",
            "Epoch 2/10\n",
            "300/300 [==============================] - 13s 42ms/step - loss: 0.3646 - accuracy: 0.8447 - val_loss: 0.3416 - val_accuracy: 0.8594\n",
            "Epoch 3/10\n",
            "300/300 [==============================] - 10s 33ms/step - loss: 0.2729 - accuracy: 0.8943 - val_loss: 0.3165 - val_accuracy: 0.8686\n",
            "Epoch 4/10\n",
            "300/300 [==============================] - 10s 32ms/step - loss: 0.2110 - accuracy: 0.9222 - val_loss: 0.3083 - val_accuracy: 0.8822\n",
            "Epoch 5/10\n",
            "300/300 [==============================] - 9s 31ms/step - loss: 0.1627 - accuracy: 0.9393 - val_loss: 0.3094 - val_accuracy: 0.8804\n",
            "Epoch 6/10\n",
            "300/300 [==============================] - 9s 29ms/step - loss: 0.1240 - accuracy: 0.9565 - val_loss: 0.3378 - val_accuracy: 0.8824\n",
            "Epoch 7/10\n",
            "300/300 [==============================] - 8s 26ms/step - loss: 0.0958 - accuracy: 0.9666 - val_loss: 0.3731 - val_accuracy: 0.8748\n",
            "Epoch 8/10\n",
            "300/300 [==============================] - 8s 26ms/step - loss: 0.0742 - accuracy: 0.9770 - val_loss: 0.3418 - val_accuracy: 0.8836\n",
            "Epoch 9/10\n",
            "300/300 [==============================] - 7s 24ms/step - loss: 0.0545 - accuracy: 0.9825 - val_loss: 0.4284 - val_accuracy: 0.8764\n",
            "Epoch 10/10\n",
            "300/300 [==============================] - 9s 29ms/step - loss: 0.0442 - accuracy: 0.9862 - val_loss: 0.3998 - val_accuracy: 0.8864\n",
            "782/782 [==============================] - 10s 9ms/step - loss: 0.4442 - accuracy: 0.8160\n",
            "Test acc: 0.816\n"
          ]
        }
      ],
      "source": [
        "inputs = keras.Input(shape=(None,), dtype=\"int64\")\n",
        "embedded = layers.Embedding(\n",
        "    input_dim=max_tokens, output_dim=256, mask_zero=True)(inputs)\n",
        "x = layers.Bidirectional(layers.LSTM(32))(embedded)\n",
        "x = layers.Dropout(0.5)(x)\n",
        "outputs = layers.Dense(1, activation=\"sigmoid\")(x)\n",
        "model = keras.Model(inputs, outputs)\n",
        "model.compile(optimizer=\"rmsprop\",\n",
        "              loss=\"binary_crossentropy\",\n",
        "              metrics=[\"accuracy\"])\n",
        "model.summary()\n",
        "\n",
        "callbacks = [\n",
        "    keras.callbacks.ModelCheckpoint(\"embeddings_bidir_gru_with_masking.keras\",\n",
        "                                    save_best_only=True)\n",
        "]\n",
        "model.fit(int_train_ds, validation_data=int_val_ds, epochs=10, callbacks=callbacks)\n",
        "model = keras.models.load_model(\"embeddings_bidir_gru_with_masking.keras\")\n",
        "print(f\"Test acc: {model.evaluate(int_test_ds)[1]:.3f}\")"
      ]
    },
    {
      "cell_type": "markdown",
      "metadata": {
        "id": "R-6H4f9mzGmk"
      },
      "source": [
        "#### Using pretrained word embeddings"
      ]
    },
    {
      "cell_type": "code",
      "execution_count": 40,
      "metadata": {
        "id": "hBk_S_fOzGml"
      },
      "outputs": [],
      "source": [
        "# !wget http://nlp.stanford.edu/data/glove.6B.zip\n",
        "# !unzip -q glove.6B.zip"
      ]
    },
    {
      "cell_type": "markdown",
      "metadata": {
        "id": "iiWORA7xzGml"
      },
      "source": [
        "**Parsing the GloVe word-embeddings file**"
      ]
    },
    {
      "cell_type": "code",
      "execution_count": 41,
      "metadata": {
        "colab": {
          "base_uri": "https://localhost:8080/"
        },
        "id": "1YcJ2fRNzGml",
        "outputId": "bf9b53b2-2436-4715-92af-9c55817e16b9"
      },
      "outputs": [
        {
          "output_type": "stream",
          "name": "stdout",
          "text": [
            "Found 400000 word vectors.\n"
          ]
        }
      ],
      "source": [
        "import numpy as np\n",
        "path_to_glove_file = \"glove.6B.100d.txt\"\n",
        "\n",
        "embeddings_index = {}\n",
        "with open(path_to_glove_file) as f:\n",
        "    for line in f:\n",
        "        word, coefs = line.split(maxsplit=1)\n",
        "        coefs = np.fromstring(coefs, \"f\", sep=\" \")\n",
        "        embeddings_index[word] = coefs\n",
        "\n",
        "print(f\"Found {len(embeddings_index)} word vectors.\")"
      ]
    },
    {
      "cell_type": "markdown",
      "metadata": {
        "id": "ImAboinezGml"
      },
      "source": [
        "**Preparing the GloVe word-embeddings matrix**"
      ]
    },
    {
      "cell_type": "code",
      "execution_count": 42,
      "metadata": {
        "id": "OFNdbkIozGmm"
      },
      "outputs": [],
      "source": [
        "embedding_dim = 100\n",
        "\n",
        "vocabulary = text_vectorization.get_vocabulary()\n",
        "word_index = dict(zip(vocabulary, range(len(vocabulary))))\n",
        "\n",
        "embedding_matrix = np.zeros((max_tokens, embedding_dim))\n",
        "for word, i in word_index.items():\n",
        "    if i < max_tokens:\n",
        "        embedding_vector = embeddings_index.get(word)\n",
        "    if embedding_vector is not None:\n",
        "        embedding_matrix[i] = embedding_vector"
      ]
    },
    {
      "cell_type": "code",
      "execution_count": 43,
      "metadata": {
        "id": "GIVFqwHhzGmm"
      },
      "outputs": [],
      "source": [
        "embedding_layer = layers.Embedding(\n",
        "    max_tokens,\n",
        "    embedding_dim,\n",
        "    embeddings_initializer=keras.initializers.Constant(embedding_matrix),\n",
        "    trainable=False,\n",
        "    mask_zero=True,\n",
        ")"
      ]
    },
    {
      "cell_type": "markdown",
      "metadata": {
        "id": "MulNB9RFzGmm"
      },
      "source": [
        "**Model that uses a pretrained Embedding layer**"
      ]
    },
    {
      "cell_type": "code",
      "execution_count": 44,
      "metadata": {
        "id": "i5JzwvyuzGmm",
        "colab": {
          "base_uri": "https://localhost:8080/"
        },
        "outputId": "68dec42c-3617-4cff-d722-af40c1ff65c7"
      },
      "outputs": [
        {
          "output_type": "stream",
          "name": "stdout",
          "text": [
            "Model: \"model_11\"\n",
            "_________________________________________________________________\n",
            " Layer (type)                Output Shape              Param #   \n",
            "=================================================================\n",
            " input_12 (InputLayer)       [(None, None)]            0         \n",
            "                                                                 \n",
            " embedding_11 (Embedding)    (None, None, 100)         1000000   \n",
            "                                                                 \n",
            " bidirectional_11 (Bidirecti  (None, 64)               34048     \n",
            " onal)                                                           \n",
            "                                                                 \n",
            " dropout_11 (Dropout)        (None, 64)                0         \n",
            "                                                                 \n",
            " dense_11 (Dense)            (None, 1)                 65        \n",
            "                                                                 \n",
            "=================================================================\n",
            "Total params: 1,034,113\n",
            "Trainable params: 34,113\n",
            "Non-trainable params: 1,000,000\n",
            "_________________________________________________________________\n",
            "Epoch 1/10\n",
            "300/300 [==============================] - 20s 38ms/step - loss: 0.6506 - accuracy: 0.6051 - val_loss: 0.5597 - val_accuracy: 0.7254\n",
            "Epoch 2/10\n",
            "300/300 [==============================] - 8s 26ms/step - loss: 0.5615 - accuracy: 0.7154 - val_loss: 0.4975 - val_accuracy: 0.7622\n",
            "Epoch 3/10\n",
            "300/300 [==============================] - 9s 29ms/step - loss: 0.5057 - accuracy: 0.7595 - val_loss: 0.4681 - val_accuracy: 0.7818\n",
            "Epoch 4/10\n",
            "300/300 [==============================] - 9s 30ms/step - loss: 0.4712 - accuracy: 0.7772 - val_loss: 0.4469 - val_accuracy: 0.7934\n",
            "Epoch 5/10\n",
            "300/300 [==============================] - 8s 27ms/step - loss: 0.4475 - accuracy: 0.7947 - val_loss: 0.4326 - val_accuracy: 0.8006\n",
            "Epoch 6/10\n",
            "300/300 [==============================] - 8s 26ms/step - loss: 0.4233 - accuracy: 0.8091 - val_loss: 0.4170 - val_accuracy: 0.8136\n",
            "Epoch 7/10\n",
            "300/300 [==============================] - 9s 30ms/step - loss: 0.4069 - accuracy: 0.8208 - val_loss: 0.4009 - val_accuracy: 0.8196\n",
            "Epoch 8/10\n",
            "300/300 [==============================] - 8s 28ms/step - loss: 0.3916 - accuracy: 0.8301 - val_loss: 0.4300 - val_accuracy: 0.7908\n",
            "Epoch 9/10\n",
            "300/300 [==============================] - 7s 25ms/step - loss: 0.3729 - accuracy: 0.8360 - val_loss: 0.4354 - val_accuracy: 0.7966\n",
            "Epoch 10/10\n",
            "300/300 [==============================] - 9s 29ms/step - loss: 0.3597 - accuracy: 0.8458 - val_loss: 0.3700 - val_accuracy: 0.8326\n",
            "782/782 [==============================] - 10s 9ms/step - loss: 0.3974 - accuracy: 0.8187\n",
            "Test acc: 0.819\n"
          ]
        }
      ],
      "source": [
        "inputs = keras.Input(shape=(None,), dtype=\"int64\")\n",
        "embedded = embedding_layer(inputs)\n",
        "x = layers.Bidirectional(layers.LSTM(32))(embedded)\n",
        "x = layers.Dropout(0.5)(x)\n",
        "outputs = layers.Dense(1, activation=\"sigmoid\")(x)\n",
        "model = keras.Model(inputs, outputs)\n",
        "model.compile(optimizer=\"rmsprop\",\n",
        "              loss=\"binary_crossentropy\",\n",
        "              metrics=[\"accuracy\"])\n",
        "model.summary()\n",
        "\n",
        "callbacks = [\n",
        "    keras.callbacks.ModelCheckpoint(\"glove_embeddings_sequence_model.keras\",\n",
        "                                    save_best_only=True)\n",
        "]\n",
        "model.fit(int_train_ds, validation_data=int_val_ds, epochs=10, callbacks=callbacks)\n",
        "model = keras.models.load_model(\"glove_embeddings_sequence_model.keras\")\n",
        "print(f\"Test acc: {model.evaluate(int_test_ds)[1]:.3f}\")"
      ]
    },
    {
      "cell_type": "code",
      "execution_count": 44,
      "metadata": {
        "id": "X1wvzq7qC667"
      },
      "outputs": [],
      "source": []
    }
  ],
  "metadata": {
    "accelerator": "GPU",
    "colab": {
      "provenance": []
    },
    "gpuClass": "standard",
    "kernelspec": {
      "display_name": "Python 3",
      "language": "python",
      "name": "python3"
    },
    "language_info": {
      "codemirror_mode": {
        "name": "ipython",
        "version": 3
      },
      "file_extension": ".py",
      "mimetype": "text/x-python",
      "name": "python",
      "nbconvert_exporter": "python",
      "pygments_lexer": "ipython3",
      "version": "3.7.0"
    }
  },
  "nbformat": 4,
  "nbformat_minor": 0
}